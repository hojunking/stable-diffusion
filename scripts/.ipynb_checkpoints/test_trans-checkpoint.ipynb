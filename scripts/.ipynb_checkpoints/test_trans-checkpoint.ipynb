{
 "cells": [
  {
   "cell_type": "code",
   "execution_count": 3,
   "id": "6749c6de-555d-4eb0-8a95-4e748e5ac75b",
   "metadata": {},
   "outputs": [],
   "source": [
    "from googletrans import Translator\n",
    "#pip install googletrans==3.1.0a0\n",
    "#3.1.0a0를 설치해야 오류가 나지 않음\n",
    "\n",
    "def translate(items):\n",
    "    translator = Translator()\n",
    "    translate = translator.translate(items)\n",
    "    translate\n",
    "    \n",
    "    translate = str(translate)\n",
    "    translate = translate.split(sep=',', maxsplit=3)\n",
    "    output = translate[2][6:]\n",
    "    return output"
   ]
  },
  {
   "cell_type": "code",
   "execution_count": 4,
   "id": "2a5af7b4-5562-420f-a468-fe5c77c85c46",
   "metadata": {},
   "outputs": [
    {
     "name": "stdout",
     "output_type": "stream",
     "text": [
      "Translated(src=ko, dest=en, text=A large fire broke out at around 3:00 am in the Cheomseong Hall of Kyungpook National University., pronunciation=None, extra_data=\"{'translat...\")\n",
      "A large fire broke out at around 3:00 am in the Cheomseong Hall of Kyungpook National University.\n"
     ]
    }
   ],
   "source": [
    "text = \"경북대학교 첨성관 새벽 3시경 대형 화재발생\"\n",
    "print(translate(text))\n"
   ]
  },
  {
   "cell_type": "code",
   "execution_count": null,
   "id": "0d7ba375-3b2c-4654-a097-2d9b99e193d4",
   "metadata": {},
   "outputs": [],
   "source": []
  }
 ],
 "metadata": {
  "kernelspec": {
   "display_name": "torch_ldm",
   "language": "python",
   "name": "ldm"
  },
  "language_info": {
   "codemirror_mode": {
    "name": "ipython",
    "version": 3
   },
   "file_extension": ".py",
   "mimetype": "text/x-python",
   "name": "python",
   "nbconvert_exporter": "python",
   "pygments_lexer": "ipython3",
   "version": "3.8.5"
  }
 },
 "nbformat": 4,
 "nbformat_minor": 5
}
