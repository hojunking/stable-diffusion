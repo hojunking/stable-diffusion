{
 "cells": [
  {
   "cell_type": "code",
   "execution_count": 3,
   "id": "6749c6de-555d-4eb0-8a95-4e748e5ac75b",
   "metadata": {},
   "outputs": [],
   "source": [
    "from googletrans import Translator\n",
    "#pip install googletrans==3.1.0a0\n",
    "#3.1.0a0를 설치해야 오류가 나지 않음\n",
    "\n",
    "def translate(items):\n",
    "    output = []\n",
    "    translator = Translator()\n",
    "    for t in items:\n",
    "        translate = translator.translate(t).text\n",
    "        output.append(translate)\n",
    "        \n",
    "    return output"
   ]
  },
  {
   "cell_type": "code",
   "execution_count": 4,
   "id": "2a5af7b4-5562-420f-a468-fe5c77c85c46",
   "metadata": {},
   "outputs": [
    {
     "name": "stdout",
     "output_type": "stream",
     "text": [
      "['Kyungpook National University Cheomseong Hall Please be aware of a large fire around 3:00 am', 'Please be careful as snowstorms are severe in Apsan, Nam-gu, Daegu.', 'Due to the factory fire at Seongseo Industrial Complex (Woram-dong), Dalseo-gu, Daegu, dust is expected throughout Daegu, so please be safe.', 'A 3.2 magnitude earthquake in an area of \\u200b\\u200b14 km northeast of Gimcheon City, Gyeongsangbuk-do / Please note the occurrence of additional earthquakes']\n"
     ]
    }
   ],
   "source": [
    "text = [\"경북대학교 첨성관 새벽 3시경 대형 화재발생상황에 유의 바람\",\n",
    "        '대구시 남구 앞산에서 눈보라가 심하니 조심하시기 바랍니다',\n",
    "       \"대구시 달서구 성서공단(월암동) 공장화재로 인하여 대구 전역에 분진이 예상되므로 안전에 유의하시기 바랍니다.\",\n",
    "       \"경북 김천시 동북동쪽 14km 지역 규모3.2 지진발생/추가 지진 발생상황에 유의 바람\"]\n",
    "print(translate(text))\n"
   ]
  },
  {
   "cell_type": "code",
   "execution_count": null,
   "id": "0d7ba375-3b2c-4654-a097-2d9b99e193d4",
   "metadata": {},
   "outputs": [],
   "source": []
  }
 ],
 "metadata": {
  "kernelspec": {
   "display_name": "torch_ldm",
   "language": "python",
   "name": "ldm"
  },
  "language_info": {
   "codemirror_mode": {
    "name": "ipython",
    "version": 3
   },
   "file_extension": ".py",
   "mimetype": "text/x-python",
   "name": "python",
   "nbconvert_exporter": "python",
   "pygments_lexer": "ipython3",
   "version": "3.8.5"
  }
 },
 "nbformat": 4,
 "nbformat_minor": 5
}
