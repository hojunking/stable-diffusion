{
 "cells": [
  {
   "cell_type": "code",
   "execution_count": 8,
   "id": "e73c53d0-4e2f-4aa4-ab32-d06dc4d7bfec",
   "metadata": {},
   "outputs": [
    {
     "name": "stdout",
     "output_type": "stream",
     "text": [
      "['A large fire breaks out in Dongseong-ro, Daegu']\n"
     ]
    }
   ],
   "source": [
    "def translate(items):\n",
    "    output = []\n",
    "    translator = Translator()\n",
    "    for t in items:\n",
    "        translated = translator.translate(t).text\n",
    "        output.append(translated)\n",
    "        \n",
    "    return output\n",
    "input1 = translate([\"대구동성로에서 대형 화재 발생\"])\n",
    "print(input1)"
   ]
  },
  {
   "cell_type": "code",
   "execution_count": 39,
   "id": "b954c144-59ca-4401-bdfb-99fb281065fa",
   "metadata": {},
   "outputs": [],
   "source": [
    "with open('promt.txt', \"r\") as f:\n",
    "    before_trans = f.read()\n",
    "tlist = before_trans.split(',')\n"
   ]
  },
  {
   "cell_type": "code",
   "execution_count": 40,
   "id": "645ec252-e9ba-4975-bee4-429309270c92",
   "metadata": {},
   "outputs": [
    {
     "data": {
      "text/plain": [
       "[\"'A fire hydrant and some debris on the street. '\",\n",
       " \" 'The scene of a fire accident and a fire hydrant covered in ash. '\",\n",
       " \" 'this is the aftermath of a fire outside'\",\n",
       " \" 'a old fire hydrogen that is next to a torn down buliding'\"]"
      ]
     },
     "execution_count": 40,
     "metadata": {},
     "output_type": "execute_result"
    }
   ],
   "source": [
    "tlist"
   ]
  },
  {
   "cell_type": "code",
   "execution_count": 41,
   "id": "447865a9-30ab-4ec1-a917-37f7e711a555",
   "metadata": {},
   "outputs": [],
   "source": [
    "import string\n",
    "tlist = [tlist[i].strip(\" '\") for i in range(len(tlist))]"
   ]
  },
  {
   "cell_type": "code",
   "execution_count": 43,
   "id": "a0d0fef8-1169-49c6-b431-3119c34aab1b",
   "metadata": {},
   "outputs": [
    {
     "data": {
      "text/plain": [
       "['A fire hydrant and some debris on the street.',\n",
       " 'The scene of a fire accident and a fire hydrant covered in ash.',\n",
       " 'this is the aftermath of a fire outside',\n",
       " 'a old fire hydrogen that is next to a torn down buliding']"
      ]
     },
     "execution_count": 43,
     "metadata": {},
     "output_type": "execute_result"
    }
   ],
   "source": [
    "tlist"
   ]
  },
  {
   "cell_type": "code",
   "execution_count": null,
   "id": "4e802cad-1be4-436c-b8ad-c34a34f2ad36",
   "metadata": {},
   "outputs": [],
   "source": []
  }
 ],
 "metadata": {
  "kernelspec": {
   "display_name": "torch_ldm",
   "language": "python",
   "name": "ldm"
  },
  "language_info": {
   "codemirror_mode": {
    "name": "ipython",
    "version": 3
   },
   "file_extension": ".py",
   "mimetype": "text/x-python",
   "name": "python",
   "nbconvert_exporter": "python",
   "pygments_lexer": "ipython3",
   "version": "3.8.5"
  }
 },
 "nbformat": 4,
 "nbformat_minor": 5
}
