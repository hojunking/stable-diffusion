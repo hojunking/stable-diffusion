{
 "cells": [
  {
   "cell_type": "code",
   "execution_count": 7,
   "id": "3f9ead50-2a13-4030-884f-fa3e0297594d",
   "metadata": {},
   "outputs": [],
   "source": [
    "from googletrans import Translator\n",
    "#pip install googletrans==3.1.0a0\n",
    "#3.1.0a0을 설치해야 오류가 나지 않음"
   ]
  },
  {
   "cell_type": "code",
   "execution_count": 8,
   "id": "e73c53d0-4e2f-4aa4-ab32-d06dc4d7bfec",
   "metadata": {},
   "outputs": [
    {
     "name": "stdout",
     "output_type": "stream",
     "text": [
      "['A large fire breaks out in Dongseong-ro, Daegu']\n"
     ]
    }
   ],
   "source": [
    "def translate(items):\n",
    "    output = []\n",
    "    translator = Translator()\n",
    "    for t in items:\n",
    "        translated = translator.translate(t).text\n",
    "        output.append(translated)\n",
    "        \n",
    "    return output\n",
    "input1 = translate([\"대구동성로에서 대형 화재 발생\"])\n",
    "print(input1)"
   ]
  },
  {
   "cell_type": "code",
   "execution_count": null,
   "id": "b954c144-59ca-4401-bdfb-99fb281065fa",
   "metadata": {},
   "outputs": [],
   "source": []
  }
 ],
 "metadata": {
  "kernelspec": {
   "display_name": "torch_ldm",
   "language": "python",
   "name": "ldm"
  },
  "language_info": {
   "codemirror_mode": {
    "name": "ipython",
    "version": 3
   },
   "file_extension": ".py",
   "mimetype": "text/x-python",
   "name": "python",
   "nbconvert_exporter": "python",
   "pygments_lexer": "ipython3",
   "version": "3.8.5"
  }
 },
 "nbformat": 4,
 "nbformat_minor": 5
}
