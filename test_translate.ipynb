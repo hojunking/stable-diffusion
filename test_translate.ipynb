{
 "cells": [
  {
   "cell_type": "code",
   "execution_count": 1,
   "id": "3f9ead50-2a13-4030-884f-fa3e0297594d",
   "metadata": {},
   "outputs": [],
   "source": [
    "from googletrans import Translator"
   ]
  },
  {
   "cell_type": "code",
   "execution_count": 2,
   "id": "e73c53d0-4e2f-4aa4-ab32-d06dc4d7bfec",
   "metadata": {},
   "outputs": [],
   "source": [
    "def translate(input1):\n",
    "    translator = Translator()\n",
    "    print(f'input = {input1}')\n",
    "    translate = translator.translate(input1)\n",
    "    translate = str(translate)\n",
    "    print(f'trans result = {translate}')\n",
    "    translate = translate.split(sep=',', maxsplit=3)\n",
    "    output = translate[2][6:]\n",
    "    return output"
   ]
  },
  {
   "cell_type": "code",
   "execution_count": 4,
   "id": "98f0959a-b613-4d39-943c-fd9109818b3f",
   "metadata": {},
   "outputs": [
    {
     "name": "stdout",
     "output_type": "stream",
     "text": [
      "input = 대구동성로에서 대형 화재 발생\n",
      "trans result = Translated(src=ko, dest=en, text=A large fire breaks out in Dongseong-ro, Daegu, pronunciation=None, extra_data=\"{'translat...\")\n",
      "A large fire breaks out in Dongseong-ro\n"
     ]
    }
   ],
   "source": [
    "input1 = translate(\"대구동성로에서 대형 화재 발생\")\n",
    "print(input1)"
   ]
  },
  {
   "cell_type": "code",
   "execution_count": null,
   "id": "68dd402a-3a1a-4d1b-9d0b-53fb460eedcd",
   "metadata": {},
   "outputs": [],
   "source": []
  }
 ],
 "metadata": {
  "kernelspec": {
   "display_name": "torch_ldm",
   "language": "python",
   "name": "ldm"
  },
  "language_info": {
   "codemirror_mode": {
    "name": "ipython",
    "version": 3
   },
   "file_extension": ".py",
   "mimetype": "text/x-python",
   "name": "python",
   "nbconvert_exporter": "python",
   "pygments_lexer": "ipython3",
   "version": "3.8.5"
  }
 },
 "nbformat": 4,
 "nbformat_minor": 5
}
